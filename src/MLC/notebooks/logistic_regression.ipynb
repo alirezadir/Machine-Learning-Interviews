{
 "cells": [
  {
   "attachments": {},
   "cell_type": "markdown",
   "metadata": {},
   "source": [
    "# Logistic Regression \n",
    "\n",
    "Logistic regression is a statistical method used for binary classification, which means it is used to predict the probability of an event occurring or not. It is a type of generalized linear model that is used when the dependent variable is binary or categorical.\n",
    "\n",
    "In logistic regression, the dependent variable is binary (i.e., it can take on one of two values, usually 0 or 1), and the independent variables can be either continuous or categorical. The goal of logistic regression is to find the relationship between the independent variables and the dependent variable by estimating the probability of the dependent variable being 1 given the values of the independent variables.\n",
    "\n",
    "The logistic regression model uses a logistic function (also known as the sigmoid function) to map the input values of the independent variables to a value between 0 and 1, which represents the probability of the dependent variable being 1. The logistic function is defined as:\n",
    "$$ p = \\frac{1}{1 + e^{-z}} $$\n",
    "where p is the predicted probability of the dependent variable being 1, e is the base of the natural logarithm, and z is the linear combination of the independent variables.\n",
    "\n",
    "The logistic regression model estimates the values of the coefficients of the independent variables that maximize the likelihood of observing the data given the model. This is typically done using maximum likelihood estimation or gradient descent optimization.\n",
    "\n",
    "Once the model is trained, it can be used to make predictions on new data by inputting the values of the independent variables into the logistic function and obtaining the predicted probability of the dependent variable being 1. The model can then classify the new observation as 1 or 0 based on a threshold probability value that is chosen by the user.\n",
    "\n"
   ]
  },
  {
   "attachments": {},
   "cell_type": "markdown",
   "metadata": {},
   "source": [
    "## Code "
   ]
  },
  {
   "cell_type": "code",
   "execution_count": 21,
   "metadata": {},
   "outputs": [],
   "source": [
    "import torch\n",
    "from sklearn.datasets import make_classification\n",
    "from sklearn.model_selection import train_test_split\n",
    "import matplotlib.pyplot as plt\n",
    "\n",
    "# Data\n",
    "X, y = make_classification(n_samples=200, n_features=2, n_classes=2, \n",
    "                           n_informative=2, n_redundant=0, random_state=42)\n",
    "X = torch.tensor(X, dtype=torch.float32)\n",
    "y = torch.tensor(y, dtype=torch.float32).unsqueeze(1)  # shape: [N, 1]\n",
    "X_train, X_test, y_train, y_test = train_test_split(X, y, test_size=0.2)\n",
    "\n",
    "# Visulization\n",
    "import numpy as np\n",
    "def plot_decision_boundary(model, X, y):\n",
    "    x_min, x_max = X[:, 0].min() - 1, X[:, 0].max() + 1\n",
    "    y_min, y_max = X[:, 1].min() - 1, X[:, 1].max() + 1\n",
    "    xx, yy = np.meshgrid(np.linspace(x_min, x_max, 100),\n",
    "                         np.linspace(y_min, y_max, 100))\n",
    "    grid = torch.tensor(np.c_[xx.ravel(), yy.ravel()], dtype=torch.float32)\n",
    "    with torch.no_grad():\n",
    "        probs = model(grid).reshape(xx.shape)\n",
    "    plt.contourf(xx, yy, probs, levels=[0, 0.5, 1], cmap=\"RdBu\", alpha=0.6)\n",
    "    plt.scatter(X[:, 0], X[:, 1], c=y.squeeze(), cmap=\"RdBu\", edgecolor=\"k\")\n",
    "    plt.title(\"Logistic Regression Decision Boundary\")\n",
    "    plt.show()"
   ]
  },
  {
   "cell_type": "markdown",
   "metadata": {},
   "source": [
    "### Pytorch version to achieve a binary classification via logistic regression"
   ]
  },
  {
   "cell_type": "code",
   "execution_count": null,
   "metadata": {},
   "outputs": [
    {
     "name": "stdout",
     "output_type": "stream",
     "text": [
      "LogisticRegression(\n",
      "  (linear): Linear(in_features=2, out_features=1, bias=True)\n",
      ")\n",
      "step=10, loss=0.5829\n",
      "step=20, loss=0.4864\n",
      "step=30, loss=0.4392\n",
      "step=40, loss=0.4123\n",
      "step=50, loss=0.3952\n",
      "step=60, loss=0.3835\n",
      "step=70, loss=0.3751\n",
      "step=80, loss=0.3688\n",
      "step=90, loss=0.3640\n"
     ]
    },
    {
     "data": {
      "image/png": "[encoded data removed]",
      "text/plain": [
       "<Figure size 432x288 with 1 Axes>"
      ]
     },
     "metadata": {
      "needs_background": "light"
     },
     "output_type": "display_data"
    }
   ],
   "source": [
    "import torch\n",
    "import torch.nn as nn\n",
    "import torch.optim as optim\n",
    "\n",
    "# Model\n",
    "class LogisticRegression(nn.Module):\n",
    "    def __init__(self, in_features):\n",
    "        super().__init__()\n",
    "        self.linear = nn.Linear(in_features, 1)\n",
    "\n",
    "    def forward(self, x):\n",
    "        return torch.sigmoid(self.linear(x))\n",
    "\n",
    "model = LogisticRegression(2)\n",
    "print(model)\n",
    "\n",
    "# Training Loop\n",
    "learning_rate = 0.1\n",
    "optim_steps = 100\n",
    "save_per_step = 10\n",
    "loss_fn = nn.BCELoss()\n",
    "optimizer = optim.SGD(model.parameters(), lr=learning_rate)\n",
    "for step in range(1, optim_steps):\n",
    "    prediction = model(X_train)\n",
    "    loss = loss_fn(prediction, y_train)\n",
    "    optimizer.zero_grad()\n",
    "    loss.backward()\n",
    "    optimizer.step()\n",
    "    if step % save_per_step == 0:\n",
    "        print(f\"{step=}, loss={loss.item():.4f}\")\n",
    "\n",
    "# Visulization\n",
    "plot_decision_boundary(model, X_test, y_test)\n",
    "\n",
    "\n"
   ]
  },
  {
   "cell_type": "markdown",
   "metadata": {},
   "source": [
    "### Pure Python version to implement more details\n",
    "\n",
    "Let’s walk through the gradient derivation and backpropagation process for logistic regression, step by step \n",
    "\n",
    "\n",
    "**Logistic Regression Basics**\n",
    "\n",
    "Let’s define:\n",
    "\n",
    "- Input features: $x \\in \\mathbb{R}^n$  \n",
    "- Parameters: $w \\in \\mathbb{R}^n$, bias $b \\in \\mathbb{R}$  \n",
    "- Output / logit:  $z = w^T x + b$\n",
    "- Sigmoid (logistic function):  $\\hat{y} = \\sigma(z) = \\frac{1}{1 + e^{-z}}$\n",
    "- True label: $y \\in \\{0, 1\\}$  \n",
    "- Loss function: Binary Cross Entropy (BCE)  $\\mathcal{L}(\\hat{y}, y) = -y \\log(\\hat{y}) - (1 - y) \\log(1 - \\hat{y})$\n",
    "\n",
    "**Backpropagation (Gradient Derivation)**\n",
    "\n",
    "We want to compute:\n",
    "\n",
    "- $\\frac{\\partial \\mathcal{L}}{\\partial w}$\n",
    "- $\\frac{\\partial \\mathcal{L}}{\\partial b}$\n",
    "\n",
    "Let’s break it down using the chain rule:\n",
    "\n",
    "\n",
    "\n",
    "🔸 Step 1: Derivative of loss w.r.t prediction $\\hat{y}$\n",
    "\n",
    "$$\n",
    "\\frac{\\partial \\mathcal{L}}{\\partial \\hat{y}} = -\\frac{y}{\\hat{y}} + \\frac{1 - y}{1 - \\hat{y}}\n",
    "$$\n",
    "\n",
    "\n",
    "\n",
    "🔸 Step 2: Derivative of prediction w.r.t logit $z$\n",
    "\n",
    "$$\n",
    "\\frac{d\\hat{y}}{dz} = \\frac{d}{dz} \\left( \\frac{1}{1 + e^{-z}} \\right) = \\hat{y}(1 - \\hat{y})\n",
    "$$\n",
    "\n",
    "\n",
    "\n",
    "🔸 Step 3: Chain Rule — $\\frac{\\partial \\mathcal{L}}{\\partial z}$\n",
    "\n",
    "Instead of going the long route, we use a shortcut derived from combining BCE loss with sigmoid:\n",
    "\n",
    "$$\n",
    "\\frac{\\partial \\mathcal{L}}{\\partial z} = \\hat{y} - y\n",
    "$$\n",
    "\n",
    "✅ This is a famous result in logistic regression:  \n",
    "> *Gradient of loss w.r.t logits = prediction - label*\n",
    "\n",
    "\n",
    "\n",
    "🔸 Step 4: Gradients w.r.t weights and bias\n",
    "\n",
    "Since:\n",
    "\n",
    "$$\n",
    "z = w^T x + b\n",
    "$$\n",
    "\n",
    "Then:\n",
    "\n",
    "- $\\frac{\\partial \\mathcal{L}}{\\partial w} = ( \\hat{y} - y ) x$  \n",
    "- $\\frac{\\partial \\mathcal{L}}{\\partial b} = \\hat{y} - y$\n",
    "\n",
    "\n",
    "\n",
    "**Gradient Descent Update Rule**\n",
    "\n",
    "For a single example (or averaged over batch):\n",
    "\n",
    "* $w = w - lr * grad_w$\n",
    "* $b = b - lr * grad_b$\n"
   ]
  },
  {
   "cell_type": "code",
   "execution_count": 48,
   "metadata": {},
   "outputs": [
    {
     "name": "stdout",
     "output_type": "stream",
     "text": [
      "step=10, loss=-40.4002\n",
      "step=20, loss=-34.9989\n",
      "step=30, loss=-32.2221\n",
      "step=40, loss=-30.6057\n",
      "step=50, loss=-29.5805\n",
      "step=60, loss=-28.8891\n",
      "step=70, loss=-28.4013\n",
      "step=80, loss=-28.0449\n",
      "step=90, loss=-27.7772\n"
     ]
    }
   ],
   "source": [
    "import numpy as np\n",
    "\n",
    "class LogisticRegression2:\n",
    "    def __init__(self, in_features):\n",
    "        # PyTorch Linear uses uniform distribution for the init\n",
    "        # https://github.com/pytorch/pytorch/blob/v2.6.0/torch/nn/modules/linear.py#L114\n",
    "        self.weights = torch.zeros(in_features)\n",
    "        self.bias = 0\n",
    "        \n",
    "    def fit(self, X, y, steps=100, lr=0.1):\n",
    "        # gradient descent optimization\n",
    "        n_samples = X.shape[0]\n",
    "        for step in range(1, steps):\n",
    "            y_pred = self.forward(X).float()\n",
    "\n",
    "            # print(y_pred.shape)\n",
    "            # print(y.view(-1).shape)\n",
    "\n",
    "            loss = -1 / n_samples * torch.matmul(y.T, torch.log(y_pred)) + torch.matmul((1-y).T, torch.log(1 - y_pred))\n",
    "            # calculate gradients\n",
    "            dw = (1 / n_samples) * torch.matmul(X.T, (y_pred - y.view(-1)))\n",
    "            db = (1 / n_samples) * torch.sum(y_pred - y.view(-1))\n",
    "            \n",
    "            # update weights and bias\n",
    "            self.weights -= lr * dw\n",
    "            self.bias -= lr * db\n",
    "\n",
    "            if step % 10 == 0:\n",
    "                print(f\"{step=}, loss={loss.item():.4f}\")\n",
    "            \n",
    "    def forward(self, X):\n",
    "        return self._sigmoid(self._linear(X))\n",
    "    \n",
    "    def _sigmoid(self, z):\n",
    "        return 1 / (1 + torch.exp(-z))\n",
    "    \n",
    "    def _linear(self, x):\n",
    "        # `y = x * A^T + b`\n",
    "        return torch.matmul(x, self.weights.T) + self.bias\n",
    "\n",
    "model = LogisticRegression2(in_features=2)\n",
    "model.fit(X_train, y_train)"
   ]
  },
  {
   "attachments": {},
   "cell_type": "markdown",
   "metadata": {},
   "source": [
    "### Improvements \n",
    "here are some possible improvements you could make to the code:\n",
    "\n",
    "1. Add regularization: Regularization can help prevent overfitting and improve the generalization performance of the model. You could add L1 or L2 regularization to the cost function and adjust the regularization strength with a hyperparameter. Here's an example of how to add L2 regularization to the code:"
   ]
  },
  {
   "attachments": {},
   "cell_type": "markdown",
   "metadata": {},
   "source": [
    "2. Use a more sophisticated optimization algorithm: Gradient descent is a simple and effective optimization algorithm, but it may not be the most efficient or accurate for large or complex datasets. You could try using a more sophisticated algorithm, such as stochastic gradient descent (SGD), mini-batch SGD, or Adam, which can converge faster and find better optima. Here's an example of how to use mini-batch SGD:"
   ]
  },
  {
   "cell_type": "code",
   "execution_count": 9,
   "metadata": {},
   "outputs": [],
   "source": [
    "import numpy as np\n",
    "\n",
    "class LogisticRegression:\n",
    "    \n",
    "    def __init__(self, learning_rate=0.01, n_iters=1000, regularization='l2', reg_strength=0.1, batch_size=32):\n",
    "        self.learning_rate = learning_rate\n",
    "        self.n_iters = n_iters\n",
    "        self.regularization = regularization\n",
    "        self.reg_strength = reg_strength\n",
    "        self.batch_size = batch_size\n",
    "        self.weights = None\n",
    "        self.bias = None\n",
    "        \n",
    "    def fit(self, X, y):\n",
    "        n_samples, n_features = X.shape\n",
    "        self.weights = np.zeros(n_features)\n",
    "        self.bias = 0\n",
    "        n_batches = n_samples // self.batch_size\n",
    "        for i in range(self.n_iters):\n",
    "            batch_indices = np.random.choice(n_samples, self.batch_size)\n",
    "            X_batch = X[batch_indices]\n",
    "            y_batch = y[batch_indices]\n",
    "            z = np.dot(X_batch, self.weights) + self.bias\n",
    "            y_pred = self._sigmoid(z)\n",
    "            cost = (-1 / self.batch_size) * np.sum(y_batch * np.log(y_pred) + (1 - y_batch) * np.log(1 - y_pred))\n",
    "            if self.regularization == 'l2':\n",
    "                reg_cost = (self.reg_strength / (2 * n_samples)) * np.sum(self.weights ** 2)\n",
    "                cost += reg_cost\n",
    "            elif self.regularization == 'l1':\n",
    "                reg_cost = (self.reg_strength / (2 * n_samples)) * np.sum(np.abs(self.weights))\n",
    "                cost += reg_cost\n",
    "            dw = (1 / self.batch_size) * np.dot(X_batch.T, (y_pred - y_batch))\n",
    "            db = (1 / self.batch_size) * np.sum(y_pred - y_batch)\n",
    "            if self.regularization == 'l2':\n",
    "                dw += (self.reg_strength / n_samples) * self.weights\n",
    "            elif self.regularization == 'l1':\n",
    "                dw += (self.reg_strength / n_samples) * np.sign(self.weights)\n",
    "            self.weights -= self.learning_rate * dw\n",
    "            self.bias -= self.learning_rate * db\n",
    "            \n",
    "    def predict(self, X):\n",
    "        z = np.dot(X, self.weights) + self.bias\n",
    "        y_pred = self._sigmoid(z)\n",
    "        return np.round(y_pred).astype(int)\n",
    "    \n",
    "    def _sigmoid(self, z):\n",
    "        return 1 / (1 + np.exp(-z))\n"
   ]
  },
  {
   "attachments": {},
   "cell_type": "markdown",
   "metadata": {},
   "source": [
    "This implementation includes the following improvements:\n",
    "\n",
    "1. Regularization: You can choose between L1 or L2 regularization by setting the regularization parameter to either 'l1' or 'l2', and adjust the regularization strength with the reg_strength parameter.\n",
    "\n",
    "2. Mini-batch stochastic gradient descent: The model uses mini-batch SGD (instead of simple gradient descent) to update the weights and bias, which can converge faster and find better optima.\n"
   ]
  },
  {
   "cell_type": "markdown",
   "metadata": {},
   "source": [
    "### Test "
   ]
  },
  {
   "cell_type": "code",
   "execution_count": 10,
   "metadata": {},
   "outputs": [
    {
     "name": "stdout",
     "output_type": "stream",
     "text": [
      "[1 1]\n"
     ]
    }
   ],
   "source": [
    "# create sample dataset\n",
    "X = np.array([[1, 2], [2, 3], [3, 4], [4, 5], [5, 6]])\n",
    "y = np.array([0, 0, 1, 1, 1])\n",
    "\n",
    "# initialize logistic regression model\n",
    "lr = LogisticRegression(learning_rate=0.01, n_iters=1000, regularization='l2', reg_strength=0.1, batch_size=2)\n",
    "\n",
    "# train model on sample dataset\n",
    "lr.fit(X, y)\n",
    "\n",
    "# make predictions on new data\n",
    "X_new = np.array([[6, 7], [7, 8]])\n",
    "y_pred = lr.predict(X_new)\n",
    "\n",
    "print(y_pred)  # [1, 1]\n"
   ]
  },
  {
   "cell_type": "markdown",
   "metadata": {},
   "source": []
  },
  {
   "cell_type": "markdown",
   "metadata": {},
   "source": [
    "## Visualize "
   ]
  },
  {
   "cell_type": "markdown",
   "metadata": {},
   "source": [
    "It is difficult to visualize logistic regression since it is a high-dimensional problem. However, we can visualize the decision boundary of a logistic regression model for a two-dimensional dataset.\n",
    "\n",
    "Here's an example of how to visualize the decision boundary of the LogisticRegression class on a 2D dataset using the matplotlib library:"
   ]
  },
  {
   "cell_type": "code",
   "execution_count": 11,
   "metadata": {},
   "outputs": [
    {
     "data": {
      "image/png": "[encoded data removed]",
      "text/plain": [
       "<Figure size 432x288 with 1 Axes>"
      ]
     },
     "metadata": {
      "needs_background": "light"
     },
     "output_type": "display_data"
    }
   ],
   "source": [
    "import matplotlib.pyplot as plt\n",
    "\n",
    "# create 2D dataset\n",
    "X = np.array([[1, 2], [2, 3], [3, 4], [4, 5], [5, 6]])\n",
    "y = np.array([0, 0, 1, 1, 1])\n",
    "\n",
    "# initialize logistic regression model\n",
    "lr = LogisticRegression(learning_rate=0.01, n_iters=1000, regularization='l2', reg_strength=0.1, batch_size=2)\n",
    "\n",
    "# train model on dataset\n",
    "lr.fit(X, y)\n",
    "\n",
    "# plot decision boundary\n",
    "x1 = np.linspace(0, 6, 100)\n",
    "x2 = np.linspace(0, 8, 100)\n",
    "xx, yy = np.meshgrid(x1, x2)\n",
    "Z = lr.predict(np.c_[xx.ravel(), yy.ravel()])\n",
    "Z = Z.reshape(xx.shape)\n",
    "plt.contourf(xx, yy, Z, cmap=plt.cm.Spectral, alpha=0.8)\n",
    "\n",
    "# plot data points\n",
    "plt.scatter(X[:,0], X[:,1], c=y, cmap=plt.cm.Spectral)\n",
    "\n",
    "plt.show()"
   ]
  },
  {
   "cell_type": "code",
   "execution_count": null,
   "metadata": {},
   "outputs": [],
   "source": []
  }
 ],
 "metadata": {
  "kernelspec": {
   "display_name": "Python 3",
   "language": "python",
   "name": "python3"
  },
  "language_info": {
   "codemirror_mode": {
    "name": "ipython",
    "version": 3
   },
   "file_extension": ".py",
   "mimetype": "text/x-python",
   "name": "python",
   "nbconvert_exporter": "python",
   "pygments_lexer": "ipython3",
   "version": "3.10.5"
  },
  "orig_nbformat": 4
 },
 "nbformat": 4,
 "nbformat_minor": 2
}
